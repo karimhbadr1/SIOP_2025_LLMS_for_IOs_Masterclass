{
  "nbformat": 4,
  "nbformat_minor": 0,
  "metadata": {
    "colab": {
      "provenance": [],
      "collapsed_sections": [
        "r6PxEJ_JAIAR"
      ]
    },
    "kernelspec": {
      "name": "python3",
      "display_name": "Python 3"
    },
    "language_info": {
      "name": "python"
    }
  },
  "cells": [
    {
      "cell_type": "markdown",
      "source": [
        "# **LLMs for I-Os: A Functionalities and Applications Master Class - APIs**"
      ],
      "metadata": {
        "id": "WIsMOxYxEjQm"
      }
    },
    {
      "cell_type": "markdown",
      "source": [
        "In this notebook, we will going over how to interact with LLMs API. Although we will be focusing on OpenAI, code for Anthropic and Gemini are also included.\n",
        "\n",
        "Before we start, you will need to get an API key from OpenAI. Please follow these steps:\n",
        "\n",
        "\n",
        "1.   Go to: https://platform.openai.com/docs/overview\n",
        "2.   Register an account\n",
        "3.   During the registration process, you will be given an API keys. It is important that you save the API key in a secure place.\n",
        "4.   For Google Colab, you can add a key into Secrets section in the sidebar for easy importing.\n",
        "\n"
      ],
      "metadata": {
        "id": "g2RD9pObFCkM"
      }
    },
    {
      "cell_type": "markdown",
      "source": [
        "# **Interacting with LLM API**"
      ],
      "metadata": {
        "id": "eYybIJLK_Z6e"
      }
    },
    {
      "cell_type": "code",
      "source": [
        "# Installing packages\n",
        "!pip install openai\n",
        "!pip install anthropic\n",
        "!import google.generativeai as genai"
      ],
      "metadata": {
        "colab": {
          "base_uri": "https://localhost:8080/"
        },
        "id": "zAViYdpU_yEJ",
        "outputId": "8a448d54-20c8-4f76-86b2-960d54db8204"
      },
      "execution_count": null,
      "outputs": [
        {
          "output_type": "stream",
          "name": "stdout",
          "text": [
            "Requirement already satisfied: openai in /usr/local/lib/python3.11/dist-packages (1.61.1)\n",
            "Requirement already satisfied: anyio<5,>=3.5.0 in /usr/local/lib/python3.11/dist-packages (from openai) (3.7.1)\n",
            "Requirement already satisfied: distro<2,>=1.7.0 in /usr/local/lib/python3.11/dist-packages (from openai) (1.9.0)\n",
            "Requirement already satisfied: httpx<1,>=0.23.0 in /usr/local/lib/python3.11/dist-packages (from openai) (0.28.1)\n",
            "Requirement already satisfied: jiter<1,>=0.4.0 in /usr/local/lib/python3.11/dist-packages (from openai) (0.9.0)\n",
            "Requirement already satisfied: pydantic<3,>=1.9.0 in /usr/local/lib/python3.11/dist-packages (from openai) (2.10.6)\n",
            "Requirement already satisfied: sniffio in /usr/local/lib/python3.11/dist-packages (from openai) (1.3.1)\n",
            "Requirement already satisfied: tqdm>4 in /usr/local/lib/python3.11/dist-packages (from openai) (4.67.1)\n",
            "Requirement already satisfied: typing-extensions<5,>=4.11 in /usr/local/lib/python3.11/dist-packages (from openai) (4.12.2)\n",
            "Requirement already satisfied: idna>=2.8 in /usr/local/lib/python3.11/dist-packages (from anyio<5,>=3.5.0->openai) (3.10)\n",
            "Requirement already satisfied: certifi in /usr/local/lib/python3.11/dist-packages (from httpx<1,>=0.23.0->openai) (2025.1.31)\n",
            "Requirement already satisfied: httpcore==1.* in /usr/local/lib/python3.11/dist-packages (from httpx<1,>=0.23.0->openai) (1.0.7)\n",
            "Requirement already satisfied: h11<0.15,>=0.13 in /usr/local/lib/python3.11/dist-packages (from httpcore==1.*->httpx<1,>=0.23.0->openai) (0.14.0)\n",
            "Requirement already satisfied: annotated-types>=0.6.0 in /usr/local/lib/python3.11/dist-packages (from pydantic<3,>=1.9.0->openai) (0.7.0)\n",
            "Requirement already satisfied: pydantic-core==2.27.2 in /usr/local/lib/python3.11/dist-packages (from pydantic<3,>=1.9.0->openai) (2.27.2)\n",
            "Collecting anthropic\n",
            "  Downloading anthropic-0.49.0-py3-none-any.whl.metadata (24 kB)\n",
            "Requirement already satisfied: anyio<5,>=3.5.0 in /usr/local/lib/python3.11/dist-packages (from anthropic) (3.7.1)\n",
            "Requirement already satisfied: distro<2,>=1.7.0 in /usr/local/lib/python3.11/dist-packages (from anthropic) (1.9.0)\n",
            "Requirement already satisfied: httpx<1,>=0.23.0 in /usr/local/lib/python3.11/dist-packages (from anthropic) (0.28.1)\n",
            "Requirement already satisfied: jiter<1,>=0.4.0 in /usr/local/lib/python3.11/dist-packages (from anthropic) (0.9.0)\n",
            "Requirement already satisfied: pydantic<3,>=1.9.0 in /usr/local/lib/python3.11/dist-packages (from anthropic) (2.10.6)\n",
            "Requirement already satisfied: sniffio in /usr/local/lib/python3.11/dist-packages (from anthropic) (1.3.1)\n",
            "Requirement already satisfied: typing-extensions<5,>=4.10 in /usr/local/lib/python3.11/dist-packages (from anthropic) (4.12.2)\n",
            "Requirement already satisfied: idna>=2.8 in /usr/local/lib/python3.11/dist-packages (from anyio<5,>=3.5.0->anthropic) (3.10)\n",
            "Requirement already satisfied: certifi in /usr/local/lib/python3.11/dist-packages (from httpx<1,>=0.23.0->anthropic) (2025.1.31)\n",
            "Requirement already satisfied: httpcore==1.* in /usr/local/lib/python3.11/dist-packages (from httpx<1,>=0.23.0->anthropic) (1.0.7)\n",
            "Requirement already satisfied: h11<0.15,>=0.13 in /usr/local/lib/python3.11/dist-packages (from httpcore==1.*->httpx<1,>=0.23.0->anthropic) (0.14.0)\n",
            "Requirement already satisfied: annotated-types>=0.6.0 in /usr/local/lib/python3.11/dist-packages (from pydantic<3,>=1.9.0->anthropic) (0.7.0)\n",
            "Requirement already satisfied: pydantic-core==2.27.2 in /usr/local/lib/python3.11/dist-packages (from pydantic<3,>=1.9.0->anthropic) (2.27.2)\n",
            "Downloading anthropic-0.49.0-py3-none-any.whl (243 kB)\n",
            "\u001b[2K   \u001b[90m━━━━━━━━━━━━━━━━━━━━━━━━━━━━━━━━━━━━━━━━\u001b[0m \u001b[32m243.4/243.4 kB\u001b[0m \u001b[31m15.3 MB/s\u001b[0m eta \u001b[36m0:00:00\u001b[0m\n",
            "\u001b[?25hInstalling collected packages: anthropic\n",
            "Successfully installed anthropic-0.49.0\n",
            "/bin/bash: line 1: import: command not found\n"
          ]
        }
      ]
    },
    {
      "cell_type": "code",
      "source": [
        "# Loading general package\n",
        "from pathlib import Path # If your data in a different folders\n",
        "import pandas as pd"
      ],
      "metadata": {
        "id": "xypSvLrMAT0p"
      },
      "execution_count": null,
      "outputs": []
    },
    {
      "cell_type": "code",
      "source": [
        "# Defining path\n",
        "project_path = Path.cwd().parent"
      ],
      "metadata": {
        "id": "mAv03xQtARLl"
      },
      "execution_count": null,
      "outputs": []
    },
    {
      "cell_type": "markdown",
      "source": [
        "## **Interacting with OPENAI API**"
      ],
      "metadata": {
        "id": "r6PxEJ_JAIAR"
      }
    },
    {
      "cell_type": "code",
      "source": [
        "# Loading library\n",
        "from openai import OpenAI\n",
        "from google.colab import userdata\n",
        "import re\n",
        "import os\n",
        "import json"
      ],
      "metadata": {
        "id": "rbG5zap6AGzR"
      },
      "execution_count": null,
      "outputs": []
    },
    {
      "cell_type": "code",
      "source": [
        "# Initializing client\n",
        "os.environ['OPENAI_API_KEY'] = userdata.get('key')\n",
        "client = OpenAI(\n",
        "    api_key = os.environ.get('OPENAI_API_KEY'))"
      ],
      "metadata": {
        "id": "uaTl9_POALeR"
      },
      "execution_count": null,
      "outputs": []
    },
    {
      "cell_type": "code",
      "source": [
        "# Prompt Creation\n",
        "prompt = f\"\"\"\n",
        "Create a situational judgement test (SJT) item to assess the following skill:\n",
        "\n",
        "# Skill\n",
        "- Active Listening — Giving full attention to what other people are saying, taking time to understand the points being made, asking questions as appropriate, and not interrupting at inappropriate times.\n",
        "\n",
        "# Output Format\n",
        "Provide the response in JSON format with the following structure:\n",
        "\n",
        "```json\n",
        "{{\n",
        "  \"question\": \"<Insert SJT question here>\",\n",
        "  \"options\": {{\n",
        "    \"A\": \"<Insert Option A>\",\n",
        "    \"B\": \"<Insert Option B>\",\n",
        "    \"C\": \"<Insert Option C>\",\n",
        "    \"D\": \"<Insert Option D>\"\n",
        "  }},\n",
        "  \"correct_answer\": \"<Insert Correct Answer Letter (A, B, C, or D)>\",\n",
        "  \"rationale\": \"<Insert detailed rationale explaining why the correct answer is the best choice>\"\n",
        "}}\n",
        "\"\"\""
      ],
      "metadata": {
        "id": "tSaoKxMGMtEX"
      },
      "execution_count": null,
      "outputs": []
    },
    {
      "cell_type": "code",
      "source": [
        "# Calling OPENAI API\n",
        "response = client.chat.completions.create(\n",
        "            model=\"chatgpt-4o-latest\", # Getting the latest chatgpt model\n",
        "            messages=[{\"role\": \"system\", \"content\": prompt}],\n",
        "            response_format={ \"type\": \"json_object\" },\n",
        "        )"
      ],
      "metadata": {
        "id": "NsMASCQ9N7WD"
      },
      "execution_count": null,
      "outputs": []
    },
    {
      "cell_type": "code",
      "source": [
        "# Inspecting output\n",
        "response_text = response.choices[0].message.content\n",
        "print(response_text)"
      ],
      "metadata": {
        "colab": {
          "base_uri": "https://localhost:8080/"
        },
        "id": "wGXgCD8SOOOk",
        "outputId": "6f94b7f3-dced-409f-979f-891c0c93898d"
      },
      "execution_count": null,
      "outputs": [
        {
          "output_type": "stream",
          "name": "stdout",
          "text": [
            "\n",
            "{\n",
            "  \"question\": \"You are in a team meeting where your colleague, Sarah, is explaining a challenge she is facing on a project. While she is speaking, you notice that some of your teammates are starting to discuss their own ideas quietly. You also realize that you have a potential solution in mind, and you are eager to share it. What should you do?\",\n",
            "  \"options\": {\n",
            "    \"A\": \"Interrupt Sarah and share your idea immediately, as it might help resolve the issue faster.\",\n",
            "    \"B\": \"Wait for Sarah to finish speaking, summarize her main points to confirm your understanding, and then ask if she would like to hear your potential solution.\",\n",
            "    \"C\": \"Tune out the conversation since you already have a solution in mind and prepare what you will say when it's your turn to speak.\",\n",
            "    \"D\": \"Speak over Sarah to remind the team to pay attention, as their side discussions are disrespectful.\"\n",
            "  },\n",
            "  \"correct_answer\": \"B\",\n",
            "  \"rationale\": \"Option B is the best choice because it demonstrates active listening by allowing Sarah to fully express herself, summarizing her points to ensure understanding, and then offering a solution in a respectful manner. This aligns with active listening principles of attentiveness, understanding, and respectful engagement. Option A is inappropriate because interrupting prevents full comprehension of Sarah’s concerns. Option C is ineffective because tuning out the conversation fails to show engagement with Sarah's points. Option D, while showing concern for respect, is not the best approach as it could disrupt the conversation and make the situation more tense.\"\n",
            "}\n"
          ]
        }
      ]
    },
    {
      "cell_type": "code",
      "source": [
        "# Convert response_text to dictionary\n",
        "response_dict = json.loads(response_text)\n",
        "\n",
        "# Create DataFrame\n",
        "result_df = pd.DataFrame([{\n",
        "    \"Question\": response_dict[\"question\"],\n",
        "    \"Option A\": response_dict[\"options\"][\"A\"],\n",
        "    \"Option B\": response_dict[\"options\"][\"B\"],\n",
        "    \"Option C\": response_dict[\"options\"][\"C\"],\n",
        "    \"Option D\": response_dict[\"options\"][\"D\"],\n",
        "    \"Correct Answer\": response_dict[\"correct_answer\"],\n",
        "    \"Rationale\": response_dict[\"rationale\"]\n",
        "}])"
      ],
      "metadata": {
        "id": "ythKDco-Q476"
      },
      "execution_count": null,
      "outputs": []
    },
    {
      "cell_type": "code",
      "source": [
        "result_df"
      ],
      "metadata": {
        "colab": {
          "base_uri": "https://localhost:8080/",
          "height": 132
        },
        "id": "3DkFh9ZFRIv2",
        "outputId": "39606aa4-9ef9-4313-925e-4b32a4b5bc21"
      },
      "execution_count": null,
      "outputs": [
        {
          "output_type": "execute_result",
          "data": {
            "text/plain": [
              "                                            Question  \\\n",
              "0  You are in a team meeting where your colleague...   \n",
              "\n",
              "                                            Option A  \\\n",
              "0  Interrupt Sarah and share your idea immediatel...   \n",
              "\n",
              "                                            Option B  \\\n",
              "0  Wait for Sarah to finish speaking, summarize h...   \n",
              "\n",
              "                                            Option C  \\\n",
              "0  Tune out the conversation since you already ha...   \n",
              "\n",
              "                                            Option D Correct Answer  \\\n",
              "0  Speak over Sarah to remind the team to pay att...              B   \n",
              "\n",
              "                                           Rationale  \n",
              "0  Option B is the best choice because it demonst...  "
            ],
            "text/html": [
              "\n",
              "  <div id=\"df-410df923-899d-44e0-9ca0-5c871703bee2\" class=\"colab-df-container\">\n",
              "    <div>\n",
              "<style scoped>\n",
              "    .dataframe tbody tr th:only-of-type {\n",
              "        vertical-align: middle;\n",
              "    }\n",
              "\n",
              "    .dataframe tbody tr th {\n",
              "        vertical-align: top;\n",
              "    }\n",
              "\n",
              "    .dataframe thead th {\n",
              "        text-align: right;\n",
              "    }\n",
              "</style>\n",
              "<table border=\"1\" class=\"dataframe\">\n",
              "  <thead>\n",
              "    <tr style=\"text-align: right;\">\n",
              "      <th></th>\n",
              "      <th>Question</th>\n",
              "      <th>Option A</th>\n",
              "      <th>Option B</th>\n",
              "      <th>Option C</th>\n",
              "      <th>Option D</th>\n",
              "      <th>Correct Answer</th>\n",
              "      <th>Rationale</th>\n",
              "    </tr>\n",
              "  </thead>\n",
              "  <tbody>\n",
              "    <tr>\n",
              "      <th>0</th>\n",
              "      <td>You are in a team meeting where your colleague...</td>\n",
              "      <td>Interrupt Sarah and share your idea immediatel...</td>\n",
              "      <td>Wait for Sarah to finish speaking, summarize h...</td>\n",
              "      <td>Tune out the conversation since you already ha...</td>\n",
              "      <td>Speak over Sarah to remind the team to pay att...</td>\n",
              "      <td>B</td>\n",
              "      <td>Option B is the best choice because it demonst...</td>\n",
              "    </tr>\n",
              "  </tbody>\n",
              "</table>\n",
              "</div>\n",
              "    <div class=\"colab-df-buttons\">\n",
              "\n",
              "  <div class=\"colab-df-container\">\n",
              "    <button class=\"colab-df-convert\" onclick=\"convertToInteractive('df-410df923-899d-44e0-9ca0-5c871703bee2')\"\n",
              "            title=\"Convert this dataframe to an interactive table.\"\n",
              "            style=\"display:none;\">\n",
              "\n",
              "  <svg xmlns=\"http://www.w3.org/2000/svg\" height=\"24px\" viewBox=\"0 -960 960 960\">\n",
              "    <path d=\"M120-120v-720h720v720H120Zm60-500h600v-160H180v160Zm220 220h160v-160H400v160Zm0 220h160v-160H400v160ZM180-400h160v-160H180v160Zm440 0h160v-160H620v160ZM180-180h160v-160H180v160Zm440 0h160v-160H620v160Z\"/>\n",
              "  </svg>\n",
              "    </button>\n",
              "\n",
              "  <style>\n",
              "    .colab-df-container {\n",
              "      display:flex;\n",
              "      gap: 12px;\n",
              "    }\n",
              "\n",
              "    .colab-df-convert {\n",
              "      background-color: #E8F0FE;\n",
              "      border: none;\n",
              "      border-radius: 50%;\n",
              "      cursor: pointer;\n",
              "      display: none;\n",
              "      fill: #1967D2;\n",
              "      height: 32px;\n",
              "      padding: 0 0 0 0;\n",
              "      width: 32px;\n",
              "    }\n",
              "\n",
              "    .colab-df-convert:hover {\n",
              "      background-color: #E2EBFA;\n",
              "      box-shadow: 0px 1px 2px rgba(60, 64, 67, 0.3), 0px 1px 3px 1px rgba(60, 64, 67, 0.15);\n",
              "      fill: #174EA6;\n",
              "    }\n",
              "\n",
              "    .colab-df-buttons div {\n",
              "      margin-bottom: 4px;\n",
              "    }\n",
              "\n",
              "    [theme=dark] .colab-df-convert {\n",
              "      background-color: #3B4455;\n",
              "      fill: #D2E3FC;\n",
              "    }\n",
              "\n",
              "    [theme=dark] .colab-df-convert:hover {\n",
              "      background-color: #434B5C;\n",
              "      box-shadow: 0px 1px 3px 1px rgba(0, 0, 0, 0.15);\n",
              "      filter: drop-shadow(0px 1px 2px rgba(0, 0, 0, 0.3));\n",
              "      fill: #FFFFFF;\n",
              "    }\n",
              "  </style>\n",
              "\n",
              "    <script>\n",
              "      const buttonEl =\n",
              "        document.querySelector('#df-410df923-899d-44e0-9ca0-5c871703bee2 button.colab-df-convert');\n",
              "      buttonEl.style.display =\n",
              "        google.colab.kernel.accessAllowed ? 'block' : 'none';\n",
              "\n",
              "      async function convertToInteractive(key) {\n",
              "        const element = document.querySelector('#df-410df923-899d-44e0-9ca0-5c871703bee2');\n",
              "        const dataTable =\n",
              "          await google.colab.kernel.invokeFunction('convertToInteractive',\n",
              "                                                    [key], {});\n",
              "        if (!dataTable) return;\n",
              "\n",
              "        const docLinkHtml = 'Like what you see? Visit the ' +\n",
              "          '<a target=\"_blank\" href=https://colab.research.google.com/notebooks/data_table.ipynb>data table notebook</a>'\n",
              "          + ' to learn more about interactive tables.';\n",
              "        element.innerHTML = '';\n",
              "        dataTable['output_type'] = 'display_data';\n",
              "        await google.colab.output.renderOutput(dataTable, element);\n",
              "        const docLink = document.createElement('div');\n",
              "        docLink.innerHTML = docLinkHtml;\n",
              "        element.appendChild(docLink);\n",
              "      }\n",
              "    </script>\n",
              "  </div>\n",
              "\n",
              "\n",
              "  <div id=\"id_7950eb64-8e80-4244-a8dd-abfdc419c55f\">\n",
              "    <style>\n",
              "      .colab-df-generate {\n",
              "        background-color: #E8F0FE;\n",
              "        border: none;\n",
              "        border-radius: 50%;\n",
              "        cursor: pointer;\n",
              "        display: none;\n",
              "        fill: #1967D2;\n",
              "        height: 32px;\n",
              "        padding: 0 0 0 0;\n",
              "        width: 32px;\n",
              "      }\n",
              "\n",
              "      .colab-df-generate:hover {\n",
              "        background-color: #E2EBFA;\n",
              "        box-shadow: 0px 1px 2px rgba(60, 64, 67, 0.3), 0px 1px 3px 1px rgba(60, 64, 67, 0.15);\n",
              "        fill: #174EA6;\n",
              "      }\n",
              "\n",
              "      [theme=dark] .colab-df-generate {\n",
              "        background-color: #3B4455;\n",
              "        fill: #D2E3FC;\n",
              "      }\n",
              "\n",
              "      [theme=dark] .colab-df-generate:hover {\n",
              "        background-color: #434B5C;\n",
              "        box-shadow: 0px 1px 3px 1px rgba(0, 0, 0, 0.15);\n",
              "        filter: drop-shadow(0px 1px 2px rgba(0, 0, 0, 0.3));\n",
              "        fill: #FFFFFF;\n",
              "      }\n",
              "    </style>\n",
              "    <button class=\"colab-df-generate\" onclick=\"generateWithVariable('result_df')\"\n",
              "            title=\"Generate code using this dataframe.\"\n",
              "            style=\"display:none;\">\n",
              "\n",
              "  <svg xmlns=\"http://www.w3.org/2000/svg\" height=\"24px\"viewBox=\"0 0 24 24\"\n",
              "       width=\"24px\">\n",
              "    <path d=\"M7,19H8.4L18.45,9,17,7.55,7,17.6ZM5,21V16.75L18.45,3.32a2,2,0,0,1,2.83,0l1.4,1.43a1.91,1.91,0,0,1,.58,1.4,1.91,1.91,0,0,1-.58,1.4L9.25,21ZM18.45,9,17,7.55Zm-12,3A5.31,5.31,0,0,0,4.9,8.1,5.31,5.31,0,0,0,1,6.5,5.31,5.31,0,0,0,4.9,4.9,5.31,5.31,0,0,0,6.5,1,5.31,5.31,0,0,0,8.1,4.9,5.31,5.31,0,0,0,12,6.5,5.46,5.46,0,0,0,6.5,12Z\"/>\n",
              "  </svg>\n",
              "    </button>\n",
              "    <script>\n",
              "      (() => {\n",
              "      const buttonEl =\n",
              "        document.querySelector('#id_7950eb64-8e80-4244-a8dd-abfdc419c55f button.colab-df-generate');\n",
              "      buttonEl.style.display =\n",
              "        google.colab.kernel.accessAllowed ? 'block' : 'none';\n",
              "\n",
              "      buttonEl.onclick = () => {\n",
              "        google.colab.notebook.generateWithVariable('result_df');\n",
              "      }\n",
              "      })();\n",
              "    </script>\n",
              "  </div>\n",
              "\n",
              "    </div>\n",
              "  </div>\n"
            ],
            "application/vnd.google.colaboratory.intrinsic+json": {
              "type": "dataframe",
              "variable_name": "result_df",
              "summary": "{\n  \"name\": \"result_df\",\n  \"rows\": 1,\n  \"fields\": [\n    {\n      \"column\": \"Question\",\n      \"properties\": {\n        \"dtype\": \"string\",\n        \"num_unique_values\": 1,\n        \"samples\": [\n          \"You are in a team meeting where your colleague, Sarah, is explaining a challenge she is facing on a project. While she is speaking, you notice that some of your teammates are starting to discuss their own ideas quietly. You also realize that you have a potential solution in mind, and you are eager to share it. What should you do?\"\n        ],\n        \"semantic_type\": \"\",\n        \"description\": \"\"\n      }\n    },\n    {\n      \"column\": \"Option A\",\n      \"properties\": {\n        \"dtype\": \"string\",\n        \"num_unique_values\": 1,\n        \"samples\": [\n          \"Interrupt Sarah and share your idea immediately, as it might help resolve the issue faster.\"\n        ],\n        \"semantic_type\": \"\",\n        \"description\": \"\"\n      }\n    },\n    {\n      \"column\": \"Option B\",\n      \"properties\": {\n        \"dtype\": \"string\",\n        \"num_unique_values\": 1,\n        \"samples\": [\n          \"Wait for Sarah to finish speaking, summarize her main points to confirm your understanding, and then ask if she would like to hear your potential solution.\"\n        ],\n        \"semantic_type\": \"\",\n        \"description\": \"\"\n      }\n    },\n    {\n      \"column\": \"Option C\",\n      \"properties\": {\n        \"dtype\": \"string\",\n        \"num_unique_values\": 1,\n        \"samples\": [\n          \"Tune out the conversation since you already have a solution in mind and prepare what you will say when it's your turn to speak.\"\n        ],\n        \"semantic_type\": \"\",\n        \"description\": \"\"\n      }\n    },\n    {\n      \"column\": \"Option D\",\n      \"properties\": {\n        \"dtype\": \"string\",\n        \"num_unique_values\": 1,\n        \"samples\": [\n          \"Speak over Sarah to remind the team to pay attention, as their side discussions are disrespectful.\"\n        ],\n        \"semantic_type\": \"\",\n        \"description\": \"\"\n      }\n    },\n    {\n      \"column\": \"Correct Answer\",\n      \"properties\": {\n        \"dtype\": \"string\",\n        \"num_unique_values\": 1,\n        \"samples\": [\n          \"B\"\n        ],\n        \"semantic_type\": \"\",\n        \"description\": \"\"\n      }\n    },\n    {\n      \"column\": \"Rationale\",\n      \"properties\": {\n        \"dtype\": \"string\",\n        \"num_unique_values\": 1,\n        \"samples\": [\n          \"Option B is the best choice because it demonstrates active listening by allowing Sarah to fully express herself, summarizing her points to ensure understanding, and then offering a solution in a respectful manner. This aligns with active listening principles of attentiveness, understanding, and respectful engagement. Option A is inappropriate because interrupting prevents full comprehension of Sarah\\u2019s concerns. Option C is ineffective because tuning out the conversation fails to show engagement with Sarah's points. Option D, while showing concern for respect, is not the best approach as it could disrupt the conversation and make the situation more tense.\"\n        ],\n        \"semantic_type\": \"\",\n        \"description\": \"\"\n      }\n    }\n  ]\n}"
            }
          },
          "metadata": {},
          "execution_count": 65
        }
      ]
    },
    {
      "cell_type": "markdown",
      "source": [
        "## **Interacting with GEMINI API**"
      ],
      "metadata": {
        "id": "7DPTeBigUACe"
      }
    },
    {
      "cell_type": "code",
      "source": [
        "# Loading library\n",
        "import google.generativeai as genai"
      ],
      "metadata": {
        "id": "aOdPdB3PUCFj"
      },
      "execution_count": null,
      "outputs": []
    },
    {
      "cell_type": "code",
      "source": [
        "# Initializing environment\n",
        "os.environ['Gemini'] = userdata.get('GOOGLE_API_KEY')\n",
        "genai.configure(api_key=os.environ.get('Gemini'))"
      ],
      "metadata": {
        "id": "Mx7M7jjNUjux"
      },
      "execution_count": null,
      "outputs": []
    },
    {
      "cell_type": "code",
      "source": [
        "# Gemini prompting\n",
        "prompt = \"\"\"Create a situational judgement test (SJT) item to assess the following skill.\n",
        "\n",
        "Skill:\n",
        "- Active Listening — Giving full attention to what other people are saying, taking time to understand the points being made, asking questions as appropriate, and not interrupting at inappropriate times.\n",
        "\n",
        "Use this JSON schema:\n",
        "\n",
        "SJT_Item = {\n",
        "  \"question\": str,\n",
        "  \"options\": {\n",
        "    \"A\": str,\n",
        "    \"B\": str,\n",
        "    \"C\": str,\n",
        "    \"D\": str\n",
        "  },\n",
        "  \"correct_answer\": str,\n",
        "  \"rationale\": str\n",
        "}\n",
        "\n",
        "Return: SJT_Item\n",
        "\"\"\""
      ],
      "metadata": {
        "id": "46M6-yNfWgU8"
      },
      "execution_count": null,
      "outputs": []
    },
    {
      "cell_type": "code",
      "source": [
        "# Calling model\n",
        "model = genai.GenerativeModel(\"gemini-1.5-flash\")\n",
        "response = model.generate_content(prompt)"
      ],
      "metadata": {
        "id": "eo-UIWo7Um7a"
      },
      "execution_count": null,
      "outputs": []
    },
    {
      "cell_type": "code",
      "source": [
        "# Getting response text\n",
        "response_text = response.text\n",
        "\n",
        "# Extract JSON from response_text\n",
        "cleaned_json_text = re.sub(r\"```json|```\", \"\", response_text).strip()\n",
        "\n",
        "# Parse JSON into a dictionary\n",
        "response_dict = json.loads(cleaned_json_text)\n",
        "\n",
        "# Convert to Pandas DataFrame\n",
        "result_df = pd.DataFrame([{\n",
        "    \"Question\": response_dict[\"question\"],\n",
        "    \"Option A\": response_dict[\"options\"][\"A\"],\n",
        "    \"Option B\": response_dict[\"options\"][\"B\"],\n",
        "    \"Option C\": response_dict[\"options\"][\"C\"],\n",
        "    \"Option D\": response_dict[\"options\"][\"D\"],\n",
        "    \"Correct Answer\": response_dict[\"correct_answer\"],\n",
        "    \"Rationale\": response_dict[\"rationale\"]\n",
        "}])"
      ],
      "metadata": {
        "id": "g0EBZuA_VR7R"
      },
      "execution_count": null,
      "outputs": []
    },
    {
      "cell_type": "code",
      "source": [
        "result_df"
      ],
      "metadata": {
        "colab": {
          "base_uri": "https://localhost:8080/",
          "height": 115
        },
        "id": "w5lqSugAXT-S",
        "outputId": "99d371e2-2e41-46e9-b8e7-b456ea14ea55"
      },
      "execution_count": null,
      "outputs": [
        {
          "output_type": "execute_result",
          "data": {
            "text/plain": [
              "                                            Question  \\\n",
              "0  You are in a meeting with your team discussing...   \n",
              "\n",
              "                                            Option A  \\\n",
              "0  Interrupt Sarah to get to the point quickly, s...   \n",
              "\n",
              "                                            Option B  \\\n",
              "0  Maintain eye contact with Sarah, nod to show y...   \n",
              "\n",
              "                                            Option C  \\\n",
              "0  Let Sarah finish her explanation, then address...   \n",
              "\n",
              "                                            Option D Correct Answer  \\\n",
              "0  Ignore Sarah's explanation and focus on your o...              B   \n",
              "\n",
              "                                           Rationale  \n",
              "0  Option B demonstrates active listening by givi...  "
            ],
            "text/html": [
              "\n",
              "  <div id=\"df-e8a69fa5-83cd-4458-923b-e5c94ced2fae\" class=\"colab-df-container\">\n",
              "    <div>\n",
              "<style scoped>\n",
              "    .dataframe tbody tr th:only-of-type {\n",
              "        vertical-align: middle;\n",
              "    }\n",
              "\n",
              "    .dataframe tbody tr th {\n",
              "        vertical-align: top;\n",
              "    }\n",
              "\n",
              "    .dataframe thead th {\n",
              "        text-align: right;\n",
              "    }\n",
              "</style>\n",
              "<table border=\"1\" class=\"dataframe\">\n",
              "  <thead>\n",
              "    <tr style=\"text-align: right;\">\n",
              "      <th></th>\n",
              "      <th>Question</th>\n",
              "      <th>Option A</th>\n",
              "      <th>Option B</th>\n",
              "      <th>Option C</th>\n",
              "      <th>Option D</th>\n",
              "      <th>Correct Answer</th>\n",
              "      <th>Rationale</th>\n",
              "    </tr>\n",
              "  </thead>\n",
              "  <tbody>\n",
              "    <tr>\n",
              "      <th>0</th>\n",
              "      <td>You are in a meeting with your team discussing...</td>\n",
              "      <td>Interrupt Sarah to get to the point quickly, s...</td>\n",
              "      <td>Maintain eye contact with Sarah, nod to show y...</td>\n",
              "      <td>Let Sarah finish her explanation, then address...</td>\n",
              "      <td>Ignore Sarah's explanation and focus on your o...</td>\n",
              "      <td>B</td>\n",
              "      <td>Option B demonstrates active listening by givi...</td>\n",
              "    </tr>\n",
              "  </tbody>\n",
              "</table>\n",
              "</div>\n",
              "    <div class=\"colab-df-buttons\">\n",
              "\n",
              "  <div class=\"colab-df-container\">\n",
              "    <button class=\"colab-df-convert\" onclick=\"convertToInteractive('df-e8a69fa5-83cd-4458-923b-e5c94ced2fae')\"\n",
              "            title=\"Convert this dataframe to an interactive table.\"\n",
              "            style=\"display:none;\">\n",
              "\n",
              "  <svg xmlns=\"http://www.w3.org/2000/svg\" height=\"24px\" viewBox=\"0 -960 960 960\">\n",
              "    <path d=\"M120-120v-720h720v720H120Zm60-500h600v-160H180v160Zm220 220h160v-160H400v160Zm0 220h160v-160H400v160ZM180-400h160v-160H180v160Zm440 0h160v-160H620v160ZM180-180h160v-160H180v160Zm440 0h160v-160H620v160Z\"/>\n",
              "  </svg>\n",
              "    </button>\n",
              "\n",
              "  <style>\n",
              "    .colab-df-container {\n",
              "      display:flex;\n",
              "      gap: 12px;\n",
              "    }\n",
              "\n",
              "    .colab-df-convert {\n",
              "      background-color: #E8F0FE;\n",
              "      border: none;\n",
              "      border-radius: 50%;\n",
              "      cursor: pointer;\n",
              "      display: none;\n",
              "      fill: #1967D2;\n",
              "      height: 32px;\n",
              "      padding: 0 0 0 0;\n",
              "      width: 32px;\n",
              "    }\n",
              "\n",
              "    .colab-df-convert:hover {\n",
              "      background-color: #E2EBFA;\n",
              "      box-shadow: 0px 1px 2px rgba(60, 64, 67, 0.3), 0px 1px 3px 1px rgba(60, 64, 67, 0.15);\n",
              "      fill: #174EA6;\n",
              "    }\n",
              "\n",
              "    .colab-df-buttons div {\n",
              "      margin-bottom: 4px;\n",
              "    }\n",
              "\n",
              "    [theme=dark] .colab-df-convert {\n",
              "      background-color: #3B4455;\n",
              "      fill: #D2E3FC;\n",
              "    }\n",
              "\n",
              "    [theme=dark] .colab-df-convert:hover {\n",
              "      background-color: #434B5C;\n",
              "      box-shadow: 0px 1px 3px 1px rgba(0, 0, 0, 0.15);\n",
              "      filter: drop-shadow(0px 1px 2px rgba(0, 0, 0, 0.3));\n",
              "      fill: #FFFFFF;\n",
              "    }\n",
              "  </style>\n",
              "\n",
              "    <script>\n",
              "      const buttonEl =\n",
              "        document.querySelector('#df-e8a69fa5-83cd-4458-923b-e5c94ced2fae button.colab-df-convert');\n",
              "      buttonEl.style.display =\n",
              "        google.colab.kernel.accessAllowed ? 'block' : 'none';\n",
              "\n",
              "      async function convertToInteractive(key) {\n",
              "        const element = document.querySelector('#df-e8a69fa5-83cd-4458-923b-e5c94ced2fae');\n",
              "        const dataTable =\n",
              "          await google.colab.kernel.invokeFunction('convertToInteractive',\n",
              "                                                    [key], {});\n",
              "        if (!dataTable) return;\n",
              "\n",
              "        const docLinkHtml = 'Like what you see? Visit the ' +\n",
              "          '<a target=\"_blank\" href=https://colab.research.google.com/notebooks/data_table.ipynb>data table notebook</a>'\n",
              "          + ' to learn more about interactive tables.';\n",
              "        element.innerHTML = '';\n",
              "        dataTable['output_type'] = 'display_data';\n",
              "        await google.colab.output.renderOutput(dataTable, element);\n",
              "        const docLink = document.createElement('div');\n",
              "        docLink.innerHTML = docLinkHtml;\n",
              "        element.appendChild(docLink);\n",
              "      }\n",
              "    </script>\n",
              "  </div>\n",
              "\n",
              "\n",
              "  <div id=\"id_92282e0c-581b-47e9-a472-49cc99aec525\">\n",
              "    <style>\n",
              "      .colab-df-generate {\n",
              "        background-color: #E8F0FE;\n",
              "        border: none;\n",
              "        border-radius: 50%;\n",
              "        cursor: pointer;\n",
              "        display: none;\n",
              "        fill: #1967D2;\n",
              "        height: 32px;\n",
              "        padding: 0 0 0 0;\n",
              "        width: 32px;\n",
              "      }\n",
              "\n",
              "      .colab-df-generate:hover {\n",
              "        background-color: #E2EBFA;\n",
              "        box-shadow: 0px 1px 2px rgba(60, 64, 67, 0.3), 0px 1px 3px 1px rgba(60, 64, 67, 0.15);\n",
              "        fill: #174EA6;\n",
              "      }\n",
              "\n",
              "      [theme=dark] .colab-df-generate {\n",
              "        background-color: #3B4455;\n",
              "        fill: #D2E3FC;\n",
              "      }\n",
              "\n",
              "      [theme=dark] .colab-df-generate:hover {\n",
              "        background-color: #434B5C;\n",
              "        box-shadow: 0px 1px 3px 1px rgba(0, 0, 0, 0.15);\n",
              "        filter: drop-shadow(0px 1px 2px rgba(0, 0, 0, 0.3));\n",
              "        fill: #FFFFFF;\n",
              "      }\n",
              "    </style>\n",
              "    <button class=\"colab-df-generate\" onclick=\"generateWithVariable('result_df')\"\n",
              "            title=\"Generate code using this dataframe.\"\n",
              "            style=\"display:none;\">\n",
              "\n",
              "  <svg xmlns=\"http://www.w3.org/2000/svg\" height=\"24px\"viewBox=\"0 0 24 24\"\n",
              "       width=\"24px\">\n",
              "    <path d=\"M7,19H8.4L18.45,9,17,7.55,7,17.6ZM5,21V16.75L18.45,3.32a2,2,0,0,1,2.83,0l1.4,1.43a1.91,1.91,0,0,1,.58,1.4,1.91,1.91,0,0,1-.58,1.4L9.25,21ZM18.45,9,17,7.55Zm-12,3A5.31,5.31,0,0,0,4.9,8.1,5.31,5.31,0,0,0,1,6.5,5.31,5.31,0,0,0,4.9,4.9,5.31,5.31,0,0,0,6.5,1,5.31,5.31,0,0,0,8.1,4.9,5.31,5.31,0,0,0,12,6.5,5.46,5.46,0,0,0,6.5,12Z\"/>\n",
              "  </svg>\n",
              "    </button>\n",
              "    <script>\n",
              "      (() => {\n",
              "      const buttonEl =\n",
              "        document.querySelector('#id_92282e0c-581b-47e9-a472-49cc99aec525 button.colab-df-generate');\n",
              "      buttonEl.style.display =\n",
              "        google.colab.kernel.accessAllowed ? 'block' : 'none';\n",
              "\n",
              "      buttonEl.onclick = () => {\n",
              "        google.colab.notebook.generateWithVariable('result_df');\n",
              "      }\n",
              "      })();\n",
              "    </script>\n",
              "  </div>\n",
              "\n",
              "    </div>\n",
              "  </div>\n"
            ],
            "application/vnd.google.colaboratory.intrinsic+json": {
              "type": "dataframe",
              "variable_name": "result_df",
              "summary": "{\n  \"name\": \"result_df\",\n  \"rows\": 1,\n  \"fields\": [\n    {\n      \"column\": \"Question\",\n      \"properties\": {\n        \"dtype\": \"string\",\n        \"num_unique_values\": 1,\n        \"samples\": [\n          \"You are in a meeting with your team discussing a new project.  Sarah, a junior team member, is explaining a technical challenge she's facing. She's quite nervous and speaks quickly, occasionally stumbling over her words.  Several senior team members are looking at their laptops and phones. How should you respond?\"\n        ],\n        \"semantic_type\": \"\",\n        \"description\": \"\"\n      }\n    },\n    {\n      \"column\": \"Option A\",\n      \"properties\": {\n        \"dtype\": \"string\",\n        \"num_unique_values\": 1,\n        \"samples\": [\n          \"Interrupt Sarah to get to the point quickly, since the meeting is running behind schedule.\"\n        ],\n        \"semantic_type\": \"\",\n        \"description\": \"\"\n      }\n    },\n    {\n      \"column\": \"Option B\",\n      \"properties\": {\n        \"dtype\": \"string\",\n        \"num_unique_values\": 1,\n        \"samples\": [\n          \"Maintain eye contact with Sarah, nod to show you're listening, and ask clarifying questions like, \\\"So, if I understand correctly, the issue is with...\\\" once she pauses for breath.\"\n        ],\n        \"semantic_type\": \"\",\n        \"description\": \"\"\n      }\n    },\n    {\n      \"column\": \"Option C\",\n      \"properties\": {\n        \"dtype\": \"string\",\n        \"num_unique_values\": 1,\n        \"samples\": [\n          \"Let Sarah finish her explanation, then address the team's concerns about the project timeline.\"\n        ],\n        \"semantic_type\": \"\",\n        \"description\": \"\"\n      }\n    },\n    {\n      \"column\": \"Option D\",\n      \"properties\": {\n        \"dtype\": \"string\",\n        \"num_unique_values\": 1,\n        \"samples\": [\n          \"Ignore Sarah's explanation and focus on your own notes about the project's budget.\"\n        ],\n        \"semantic_type\": \"\",\n        \"description\": \"\"\n      }\n    },\n    {\n      \"column\": \"Correct Answer\",\n      \"properties\": {\n        \"dtype\": \"string\",\n        \"num_unique_values\": 1,\n        \"samples\": [\n          \"B\"\n        ],\n        \"semantic_type\": \"\",\n        \"description\": \"\"\n      }\n    },\n    {\n      \"column\": \"Rationale\",\n      \"properties\": {\n        \"dtype\": \"string\",\n        \"num_unique_values\": 1,\n        \"samples\": [\n          \"Option B demonstrates active listening by giving Sarah your full attention, providing nonverbal cues of engagement (eye contact and nodding), and using clarifying questions to ensure understanding.  Options A and C, while potentially addressing the meeting's efficiency, fail to adequately listen to Sarah's concerns. Option D completely disregards Sarah and shows a lack of respect and engagement.\"\n        ],\n        \"semantic_type\": \"\",\n        \"description\": \"\"\n      }\n    }\n  ]\n}"
            }
          },
          "metadata": {},
          "execution_count": 90
        }
      ]
    },
    {
      "cell_type": "markdown",
      "source": [
        "## **Interacting with Anthropic API**"
      ],
      "metadata": {
        "id": "-UoFB7O8Xhqe"
      }
    },
    {
      "cell_type": "code",
      "source": [
        "# Loading library\n",
        "import anthropic"
      ],
      "metadata": {
        "id": "3WumJbO6XrQN"
      },
      "execution_count": null,
      "outputs": []
    },
    {
      "cell_type": "code",
      "source": [
        "# Initializing client\n",
        "os.environ['Claude'] = userdata.get('claude_key')\n",
        "\n",
        "client = anthropic.Anthropic(\n",
        "    api_key = os.environ['Claude'],\n",
        ")"
      ],
      "metadata": {
        "id": "09eA5nm3bZu8"
      },
      "execution_count": null,
      "outputs": []
    },
    {
      "cell_type": "code",
      "source": [
        "# Getting response\n",
        "message = client.messages.create(\n",
        "        model=\"claude-3-5-sonnet-latest\",\n",
        "        max_tokens=1024,\n",
        "        messages=[\n",
        "            {\"role\": \"user\", \"content\": prompt}\n",
        "        ]\n",
        "    )"
      ],
      "metadata": {
        "id": "ktG95TSpfAQF"
      },
      "execution_count": null,
      "outputs": []
    },
    {
      "cell_type": "code",
      "source": [
        "response_text = message.content[0].text"
      ],
      "metadata": {
        "id": "u4XNu3FvfHPK"
      },
      "execution_count": null,
      "outputs": []
    },
    {
      "cell_type": "code",
      "source": [
        "response_text"
      ],
      "metadata": {
        "colab": {
          "base_uri": "https://localhost:8080/",
          "height": 139
        },
        "id": "EahlhJqWfKMp",
        "outputId": "cdd245b9-fc2e-47f4-df76-7924ec1de458"
      },
      "execution_count": null,
      "outputs": [
        {
          "output_type": "execute_result",
          "data": {
            "text/plain": [
              "'{\\n  \"question\": \"You are in a team meeting where a colleague is presenting their concerns about a recent project. While they are speaking, you notice they seem hesitant and are frequently pausing. What would be the most appropriate way to demonstrate active listening in this situation?\",\\n  \\n  \"options\": {\\n    \"A\": \"Jump in with solutions whenever they pause to help move the conversation along\",\\n    \"B\": \"Maintain eye contact, nod occasionally, and wait until they finish before asking clarifying questions\",\\n    \"C\": \"Take detailed notes and interrupt when you need clarification on specific points\",\\n    \"D\": \"Summarize their points quickly whenever they pause to show you\\'re following along\"\\n  },\\n  \\n  \"correct_answer\": \"B\",\\n  \\n  \"rationale\": \"Option B best demonstrates active listening skills because it shows respect for the speaker by allowing them to complete their thoughts without interruption, while still showing engagement through non-verbal cues (eye contact, nodding). The hesitation and pausing likely indicate that the colleague is carefully choosing their words or dealing with a sensitive topic, making it especially important to give them space to express themselves fully. Waiting until they finish before asking questions ensures you have the complete context and shows you\\'ve been attentive to their entire message. Options A and C involve interrupting, which can disrupt the speaker\\'s flow and make them more hesitant. Option D, while well-intentioned, could make the speaker feel rushed or pressured to move on before they\\'ve fully expressed their thoughts.\"\\n}'"
            ],
            "application/vnd.google.colaboratory.intrinsic+json": {
              "type": "string"
            }
          },
          "metadata": {},
          "execution_count": 95
        }
      ]
    },
    {
      "cell_type": "code",
      "source": [
        "# Parse JSON into a dictionary\n",
        "response_dict = json.loads(response_text)\n",
        "\n",
        "# Convert to Pandas DataFrame\n",
        "result_df = pd.DataFrame([{\n",
        "    \"Question\": response_dict[\"question\"],\n",
        "    \"Option A\": response_dict[\"options\"][\"A\"],\n",
        "    \"Option B\": response_dict[\"options\"][\"B\"],\n",
        "    \"Option C\": response_dict[\"options\"][\"C\"],\n",
        "    \"Option D\": response_dict[\"options\"][\"D\"],\n",
        "    \"Correct Answer\": response_dict[\"correct_answer\"],\n",
        "    \"Rationale\": response_dict[\"rationale\"]\n",
        "}])"
      ],
      "metadata": {
        "id": "HZGxRQQ1fNwD"
      },
      "execution_count": null,
      "outputs": []
    },
    {
      "cell_type": "code",
      "source": [
        "result_df"
      ],
      "metadata": {
        "colab": {
          "base_uri": "https://localhost:8080/",
          "height": 115
        },
        "id": "vqDhBKgSfSEF",
        "outputId": "32137bad-d022-460b-f923-aa89197c60c6"
      },
      "execution_count": null,
      "outputs": [
        {
          "output_type": "execute_result",
          "data": {
            "text/plain": [
              "                                            Question  \\\n",
              "0  You are in a team meeting where a colleague is...   \n",
              "\n",
              "                                            Option A  \\\n",
              "0  Jump in with solutions whenever they pause to ...   \n",
              "\n",
              "                                            Option B  \\\n",
              "0  Maintain eye contact, nod occasionally, and wa...   \n",
              "\n",
              "                                            Option C  \\\n",
              "0  Take detailed notes and interrupt when you nee...   \n",
              "\n",
              "                                            Option D Correct Answer  \\\n",
              "0  Summarize their points quickly whenever they p...              B   \n",
              "\n",
              "                                           Rationale  \n",
              "0  Option B best demonstrates active listening sk...  "
            ],
            "text/html": [
              "\n",
              "  <div id=\"df-8ee3c840-db41-4f9e-983e-9f462ba42a86\" class=\"colab-df-container\">\n",
              "    <div>\n",
              "<style scoped>\n",
              "    .dataframe tbody tr th:only-of-type {\n",
              "        vertical-align: middle;\n",
              "    }\n",
              "\n",
              "    .dataframe tbody tr th {\n",
              "        vertical-align: top;\n",
              "    }\n",
              "\n",
              "    .dataframe thead th {\n",
              "        text-align: right;\n",
              "    }\n",
              "</style>\n",
              "<table border=\"1\" class=\"dataframe\">\n",
              "  <thead>\n",
              "    <tr style=\"text-align: right;\">\n",
              "      <th></th>\n",
              "      <th>Question</th>\n",
              "      <th>Option A</th>\n",
              "      <th>Option B</th>\n",
              "      <th>Option C</th>\n",
              "      <th>Option D</th>\n",
              "      <th>Correct Answer</th>\n",
              "      <th>Rationale</th>\n",
              "    </tr>\n",
              "  </thead>\n",
              "  <tbody>\n",
              "    <tr>\n",
              "      <th>0</th>\n",
              "      <td>You are in a team meeting where a colleague is...</td>\n",
              "      <td>Jump in with solutions whenever they pause to ...</td>\n",
              "      <td>Maintain eye contact, nod occasionally, and wa...</td>\n",
              "      <td>Take detailed notes and interrupt when you nee...</td>\n",
              "      <td>Summarize their points quickly whenever they p...</td>\n",
              "      <td>B</td>\n",
              "      <td>Option B best demonstrates active listening sk...</td>\n",
              "    </tr>\n",
              "  </tbody>\n",
              "</table>\n",
              "</div>\n",
              "    <div class=\"colab-df-buttons\">\n",
              "\n",
              "  <div class=\"colab-df-container\">\n",
              "    <button class=\"colab-df-convert\" onclick=\"convertToInteractive('df-8ee3c840-db41-4f9e-983e-9f462ba42a86')\"\n",
              "            title=\"Convert this dataframe to an interactive table.\"\n",
              "            style=\"display:none;\">\n",
              "\n",
              "  <svg xmlns=\"http://www.w3.org/2000/svg\" height=\"24px\" viewBox=\"0 -960 960 960\">\n",
              "    <path d=\"M120-120v-720h720v720H120Zm60-500h600v-160H180v160Zm220 220h160v-160H400v160Zm0 220h160v-160H400v160ZM180-400h160v-160H180v160Zm440 0h160v-160H620v160ZM180-180h160v-160H180v160Zm440 0h160v-160H620v160Z\"/>\n",
              "  </svg>\n",
              "    </button>\n",
              "\n",
              "  <style>\n",
              "    .colab-df-container {\n",
              "      display:flex;\n",
              "      gap: 12px;\n",
              "    }\n",
              "\n",
              "    .colab-df-convert {\n",
              "      background-color: #E8F0FE;\n",
              "      border: none;\n",
              "      border-radius: 50%;\n",
              "      cursor: pointer;\n",
              "      display: none;\n",
              "      fill: #1967D2;\n",
              "      height: 32px;\n",
              "      padding: 0 0 0 0;\n",
              "      width: 32px;\n",
              "    }\n",
              "\n",
              "    .colab-df-convert:hover {\n",
              "      background-color: #E2EBFA;\n",
              "      box-shadow: 0px 1px 2px rgba(60, 64, 67, 0.3), 0px 1px 3px 1px rgba(60, 64, 67, 0.15);\n",
              "      fill: #174EA6;\n",
              "    }\n",
              "\n",
              "    .colab-df-buttons div {\n",
              "      margin-bottom: 4px;\n",
              "    }\n",
              "\n",
              "    [theme=dark] .colab-df-convert {\n",
              "      background-color: #3B4455;\n",
              "      fill: #D2E3FC;\n",
              "    }\n",
              "\n",
              "    [theme=dark] .colab-df-convert:hover {\n",
              "      background-color: #434B5C;\n",
              "      box-shadow: 0px 1px 3px 1px rgba(0, 0, 0, 0.15);\n",
              "      filter: drop-shadow(0px 1px 2px rgba(0, 0, 0, 0.3));\n",
              "      fill: #FFFFFF;\n",
              "    }\n",
              "  </style>\n",
              "\n",
              "    <script>\n",
              "      const buttonEl =\n",
              "        document.querySelector('#df-8ee3c840-db41-4f9e-983e-9f462ba42a86 button.colab-df-convert');\n",
              "      buttonEl.style.display =\n",
              "        google.colab.kernel.accessAllowed ? 'block' : 'none';\n",
              "\n",
              "      async function convertToInteractive(key) {\n",
              "        const element = document.querySelector('#df-8ee3c840-db41-4f9e-983e-9f462ba42a86');\n",
              "        const dataTable =\n",
              "          await google.colab.kernel.invokeFunction('convertToInteractive',\n",
              "                                                    [key], {});\n",
              "        if (!dataTable) return;\n",
              "\n",
              "        const docLinkHtml = 'Like what you see? Visit the ' +\n",
              "          '<a target=\"_blank\" href=https://colab.research.google.com/notebooks/data_table.ipynb>data table notebook</a>'\n",
              "          + ' to learn more about interactive tables.';\n",
              "        element.innerHTML = '';\n",
              "        dataTable['output_type'] = 'display_data';\n",
              "        await google.colab.output.renderOutput(dataTable, element);\n",
              "        const docLink = document.createElement('div');\n",
              "        docLink.innerHTML = docLinkHtml;\n",
              "        element.appendChild(docLink);\n",
              "      }\n",
              "    </script>\n",
              "  </div>\n",
              "\n",
              "\n",
              "  <div id=\"id_7612d57a-c49a-41f5-b522-6ff772bfd3e1\">\n",
              "    <style>\n",
              "      .colab-df-generate {\n",
              "        background-color: #E8F0FE;\n",
              "        border: none;\n",
              "        border-radius: 50%;\n",
              "        cursor: pointer;\n",
              "        display: none;\n",
              "        fill: #1967D2;\n",
              "        height: 32px;\n",
              "        padding: 0 0 0 0;\n",
              "        width: 32px;\n",
              "      }\n",
              "\n",
              "      .colab-df-generate:hover {\n",
              "        background-color: #E2EBFA;\n",
              "        box-shadow: 0px 1px 2px rgba(60, 64, 67, 0.3), 0px 1px 3px 1px rgba(60, 64, 67, 0.15);\n",
              "        fill: #174EA6;\n",
              "      }\n",
              "\n",
              "      [theme=dark] .colab-df-generate {\n",
              "        background-color: #3B4455;\n",
              "        fill: #D2E3FC;\n",
              "      }\n",
              "\n",
              "      [theme=dark] .colab-df-generate:hover {\n",
              "        background-color: #434B5C;\n",
              "        box-shadow: 0px 1px 3px 1px rgba(0, 0, 0, 0.15);\n",
              "        filter: drop-shadow(0px 1px 2px rgba(0, 0, 0, 0.3));\n",
              "        fill: #FFFFFF;\n",
              "      }\n",
              "    </style>\n",
              "    <button class=\"colab-df-generate\" onclick=\"generateWithVariable('result_df')\"\n",
              "            title=\"Generate code using this dataframe.\"\n",
              "            style=\"display:none;\">\n",
              "\n",
              "  <svg xmlns=\"http://www.w3.org/2000/svg\" height=\"24px\"viewBox=\"0 0 24 24\"\n",
              "       width=\"24px\">\n",
              "    <path d=\"M7,19H8.4L18.45,9,17,7.55,7,17.6ZM5,21V16.75L18.45,3.32a2,2,0,0,1,2.83,0l1.4,1.43a1.91,1.91,0,0,1,.58,1.4,1.91,1.91,0,0,1-.58,1.4L9.25,21ZM18.45,9,17,7.55Zm-12,3A5.31,5.31,0,0,0,4.9,8.1,5.31,5.31,0,0,0,1,6.5,5.31,5.31,0,0,0,4.9,4.9,5.31,5.31,0,0,0,6.5,1,5.31,5.31,0,0,0,8.1,4.9,5.31,5.31,0,0,0,12,6.5,5.46,5.46,0,0,0,6.5,12Z\"/>\n",
              "  </svg>\n",
              "    </button>\n",
              "    <script>\n",
              "      (() => {\n",
              "      const buttonEl =\n",
              "        document.querySelector('#id_7612d57a-c49a-41f5-b522-6ff772bfd3e1 button.colab-df-generate');\n",
              "      buttonEl.style.display =\n",
              "        google.colab.kernel.accessAllowed ? 'block' : 'none';\n",
              "\n",
              "      buttonEl.onclick = () => {\n",
              "        google.colab.notebook.generateWithVariable('result_df');\n",
              "      }\n",
              "      })();\n",
              "    </script>\n",
              "  </div>\n",
              "\n",
              "    </div>\n",
              "  </div>\n"
            ],
            "application/vnd.google.colaboratory.intrinsic+json": {
              "type": "dataframe",
              "variable_name": "result_df",
              "summary": "{\n  \"name\": \"result_df\",\n  \"rows\": 1,\n  \"fields\": [\n    {\n      \"column\": \"Question\",\n      \"properties\": {\n        \"dtype\": \"string\",\n        \"num_unique_values\": 1,\n        \"samples\": [\n          \"You are in a team meeting where a colleague is presenting their concerns about a recent project. While they are speaking, you notice they seem hesitant and are frequently pausing. What would be the most appropriate way to demonstrate active listening in this situation?\"\n        ],\n        \"semantic_type\": \"\",\n        \"description\": \"\"\n      }\n    },\n    {\n      \"column\": \"Option A\",\n      \"properties\": {\n        \"dtype\": \"string\",\n        \"num_unique_values\": 1,\n        \"samples\": [\n          \"Jump in with solutions whenever they pause to help move the conversation along\"\n        ],\n        \"semantic_type\": \"\",\n        \"description\": \"\"\n      }\n    },\n    {\n      \"column\": \"Option B\",\n      \"properties\": {\n        \"dtype\": \"string\",\n        \"num_unique_values\": 1,\n        \"samples\": [\n          \"Maintain eye contact, nod occasionally, and wait until they finish before asking clarifying questions\"\n        ],\n        \"semantic_type\": \"\",\n        \"description\": \"\"\n      }\n    },\n    {\n      \"column\": \"Option C\",\n      \"properties\": {\n        \"dtype\": \"string\",\n        \"num_unique_values\": 1,\n        \"samples\": [\n          \"Take detailed notes and interrupt when you need clarification on specific points\"\n        ],\n        \"semantic_type\": \"\",\n        \"description\": \"\"\n      }\n    },\n    {\n      \"column\": \"Option D\",\n      \"properties\": {\n        \"dtype\": \"string\",\n        \"num_unique_values\": 1,\n        \"samples\": [\n          \"Summarize their points quickly whenever they pause to show you're following along\"\n        ],\n        \"semantic_type\": \"\",\n        \"description\": \"\"\n      }\n    },\n    {\n      \"column\": \"Correct Answer\",\n      \"properties\": {\n        \"dtype\": \"string\",\n        \"num_unique_values\": 1,\n        \"samples\": [\n          \"B\"\n        ],\n        \"semantic_type\": \"\",\n        \"description\": \"\"\n      }\n    },\n    {\n      \"column\": \"Rationale\",\n      \"properties\": {\n        \"dtype\": \"string\",\n        \"num_unique_values\": 1,\n        \"samples\": [\n          \"Option B best demonstrates active listening skills because it shows respect for the speaker by allowing them to complete their thoughts without interruption, while still showing engagement through non-verbal cues (eye contact, nodding). The hesitation and pausing likely indicate that the colleague is carefully choosing their words or dealing with a sensitive topic, making it especially important to give them space to express themselves fully. Waiting until they finish before asking questions ensures you have the complete context and shows you've been attentive to their entire message. Options A and C involve interrupting, which can disrupt the speaker's flow and make them more hesitant. Option D, while well-intentioned, could make the speaker feel rushed or pressured to move on before they've fully expressed their thoughts.\"\n        ],\n        \"semantic_type\": \"\",\n        \"description\": \"\"\n      }\n    }\n  ]\n}"
            }
          },
          "metadata": {},
          "execution_count": 97
        }
      ]
    },
    {
      "cell_type": "markdown",
      "source": [],
      "metadata": {
        "id": "QOZkl4c3HhrH"
      }
    },
    {
      "cell_type": "markdown",
      "source": [
        "# **How to run your own local LLM**"
      ],
      "metadata": {
        "id": "-i6K-CZJ_TNY"
      }
    },
    {
      "cell_type": "markdown",
      "source": [
        "Before running local LLM, make sure that you enable GPU on Google Colab. Here's how to do it:\n",
        "\n",
        "\n",
        "1.   On top-right bar, click on the upside-down triangle icon\n",
        "2.   Click *Change runtime type*\n",
        "3.   Click *L4 GPU*\n",
        "4.   Click *Save*"
      ],
      "metadata": {
        "id": "ldWS03awHE7g"
      }
    },
    {
      "cell_type": "code",
      "execution_count": null,
      "metadata": {
        "id": "0P3Y84HsIi7t"
      },
      "outputs": [],
      "source": [
        "#Intalling packages\n",
        "!pip install vllm\n",
        "!pip install bitsandbytes"
      ]
    },
    {
      "cell_type": "code",
      "source": [
        "import torch\n",
        "import os\n",
        "from vllm import LLM, SamplingParams\n",
        "from google.colab import drive\n",
        "import pandas as pd"
      ],
      "metadata": {
        "id": "gQzUw0uvIyjq"
      },
      "execution_count": null,
      "outputs": []
    },
    {
      "cell_type": "code",
      "source": [
        "# Defining model parameter\n",
        "\n",
        "### See this list for all model - we recommened using bnb model since they quantized to be smaller\n",
        "### Depending on your VRAM availability, you might have to use a smaller model\n",
        "### Rule of thumbs: VRAM should be larger than amount of parameters (EX: 50VRAM for 48B model)\n",
        "### https://docs.unsloth.ai/get-started/all-our-models\n",
        "model_id = \"unsloth/DeepSeek-R1-Distill-Qwen-14B-unsloth-bnb-4bit\""
      ],
      "metadata": {
        "id": "_ezoxoDyI9ES"
      },
      "execution_count": null,
      "outputs": []
    },
    {
      "cell_type": "code",
      "source": [
        "# Loading model\n",
        "\n",
        "### During the model loading, you can check the amount of batch you can run concurrently.\n",
        "llm = LLM(model=model_id,\n",
        "          dtype=torch.bfloat16,\n",
        "          quantization=\"bitsandbytes\",\n",
        "          load_format=\"bitsandbytes\",\n",
        "          max_model_len=700,\n",
        "          tensor_parallel_size= torch.cuda.device_count(),\n",
        "          )"
      ],
      "metadata": {
        "id": "MqmF399eI6Wy"
      },
      "execution_count": null,
      "outputs": []
    },
    {
      "cell_type": "code",
      "source": [
        "# Setting sampling param\n",
        "sampling_params = SamplingParams(temperature=0.5,\n",
        "                                 max_tokens=1000,\n",
        "                                 #top_p=1,\n",
        "                                 #presence_penalty=0,\n",
        "                                 #frequency_penalty=0,\n",
        "                                 )"
      ],
      "metadata": {
        "id": "bRyOX4WPJq_Q"
      },
      "execution_count": null,
      "outputs": []
    },
    {
      "cell_type": "code",
      "source": [
        "# Running individual call\n",
        "## Prompt\n",
        "prompt = f\"\"\"Create a situational judgement test (SJT) item to assess the following skill.\n",
        "\n",
        "Skill:\n",
        "- Active Listening — Giving full attention to what other people are saying, taking time to understand the points being made, asking questions as appropriate, and not interrupting at inappropriate times.\n",
        "\n",
        "Use this JSON schema:\n",
        "\n",
        "SJT_Item = {\n",
        "  \"question\": str,\n",
        "  \"options\": {\n",
        "    \"A\": str,\n",
        "    \"B\": str,\n",
        "    \"C\": str,\n",
        "    \"D\": str\n",
        "  },\n",
        "  \"correct_answer\": str,\n",
        "  \"rationale\": str\n",
        "}\n",
        "\n",
        "Return: SJT_Item\n",
        "\"\"\"\n",
        "\n",
        "outputs = llm.generate(prompt, sampling_params)"
      ],
      "metadata": {
        "id": "KNSELo8chxVj"
      },
      "execution_count": null,
      "outputs": []
    },
    {
      "cell_type": "code",
      "source": [
        "# Running batch call\n",
        "## Defining batch size\n",
        "BATCH_SIZE = 30\n",
        "\n",
        "## Looping through batches\n",
        "for i in tqdm(range(0, len(df), BATCH_SIZE), total=len(df) // BATCH_SIZE + 1):\n",
        "    batch_df = df.iloc[i: i + BATCH_SIZE]\n",
        "\n",
        "    # Creating batch prompts\n",
        "    skill = df['Skill']\n",
        "    prompts = []\n",
        "    for _, row in batch_df.iterrows():\n",
        "        prompt = f\"\"\"Create a situational judgement test (SJT) item to assess the following skill.\n",
        "\n",
        "        Skill:\n",
        "        {skill}\n",
        "\n",
        "        Use this JSON schema:\n",
        "\n",
        "        SJT_Item = {\n",
        "        \"question\": str,\n",
        "        \"options\": {\n",
        "            \"A\": str,\n",
        "            \"B\": str,\n",
        "            \"C\": str,\n",
        "            \"D\": str\n",
        "        },\n",
        "        \"correct_answer\": str,\n",
        "        \"rationale\": str\n",
        "        }\n",
        "\n",
        "        Return: SJT_Item\n",
        "\"\"\"\n",
        "\n",
        "        prompts.append(prompt)\n",
        "\n",
        "    # Generating responses in batch using vLLM\n",
        "    outputs = llm.generate(prompts, sampling_params)\n",
        "\n",
        "    # Creating a temporary DataFrame to store batch results\n",
        "    for j, row in enumerate(batch_df.itertuples(index=False)):\n",
        "        response = outputs[j].outputs[0].text.strip()\n",
        "        holder = pd.DataFrame({\n",
        "            \"Question\": response_dict[\"question\"],\n",
        "            \"Option A\": response_dict[\"options\"][\"A\"],\n",
        "            \"Option B\": response_dict[\"options\"][\"B\"],\n",
        "            \"Option C\": response_dict[\"options\"][\"C\"],\n",
        "            \"Option D\": response_dict[\"options\"][\"D\"],\n",
        "            \"Correct Answer\": response_dict[\"correct_answer\"],\n",
        "            \"Rationale\": response_dict[\"rationale\"]\n",
        "        })\n",
        "        # Concatenating the batch results to the main result DataFrame\n",
        "        result_df = pd.concat([result_df, holder], ignore_index=True)"
      ],
      "metadata": {
        "id": "0Z-FrV_XKVV_"
      },
      "execution_count": null,
      "outputs": []
    }
  ]
}